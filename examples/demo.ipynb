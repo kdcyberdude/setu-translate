{
 "cells": [
  {
   "cell_type": "code",
   "execution_count": 1,
   "metadata": {},
   "outputs": [
    {
     "name": "stderr",
     "output_type": "stream",
     "text": [
      "/home/kd/.local/lib/python3.10/site-packages/tqdm/auto.py:21: TqdmWarning: IProgress not found. Please update jupyter and ipywidgets. See https://ipywidgets.readthedocs.io/en/stable/user_install.html\n",
      "  from .autonotebook import tqdm as notebook_tqdm\n"
     ]
    }
   ],
   "source": [
    "import pandas as pd\n",
    "import pyarrow.parquet as pq\n",
    "from datasets import Dataset"
   ]
  },
  {
   "cell_type": "markdown",
   "metadata": {},
   "source": [
    "## Load the Wikipedia Dataset and view contents\n",
    "Note : The original wiki_en_data.parquet is a ~10GB file. We have provided with a sample parquet with 1000 entries for demo purposes."
   ]
  },
  {
   "cell_type": "code",
   "execution_count": 2,
   "metadata": {},
   "outputs": [],
   "source": [
    "df = pd.read_parquet(\"sample_data/sample_wiki_en_data.parquet\")"
   ]
  },
  {
   "cell_type": "code",
   "execution_count": 3,
   "metadata": {},
   "outputs": [
    {
     "name": "stdout",
     "output_type": "stream",
     "text": [
      "<class 'pandas.core.frame.DataFrame'>\n",
      "RangeIndex: 1000 entries, 0 to 999\n",
      "Data columns (total 6 columns):\n",
      " #   Column     Non-Null Count  Dtype \n",
      "---  ------     --------------  ----- \n",
      " 0   title      1000 non-null   object\n",
      " 1   body       1000 non-null   object\n",
      " 2   source     1000 non-null   object\n",
      " 3   url        1000 non-null   object\n",
      " 4   langCode   1000 non-null   object\n",
      " 5   timestamp  1000 non-null   object\n",
      "dtypes: object(6)\n",
      "memory usage: 47.0+ KB\n"
     ]
    }
   ],
   "source": [
    "df.info()"
   ]
  },
  {
   "cell_type": "code",
   "execution_count": 4,
   "metadata": {},
   "outputs": [
    {
     "data": {
      "text/html": [
       "<div>\n",
       "<style scoped>\n",
       "    .dataframe tbody tr th:only-of-type {\n",
       "        vertical-align: middle;\n",
       "    }\n",
       "\n",
       "    .dataframe tbody tr th {\n",
       "        vertical-align: top;\n",
       "    }\n",
       "\n",
       "    .dataframe thead th {\n",
       "        text-align: right;\n",
       "    }\n",
       "</style>\n",
       "<table border=\"1\" class=\"dataframe\">\n",
       "  <thead>\n",
       "    <tr style=\"text-align: right;\">\n",
       "      <th></th>\n",
       "      <th>title</th>\n",
       "      <th>body</th>\n",
       "      <th>source</th>\n",
       "      <th>url</th>\n",
       "      <th>langCode</th>\n",
       "      <th>timestamp</th>\n",
       "    </tr>\n",
       "  </thead>\n",
       "  <tbody>\n",
       "    <tr>\n",
       "      <th>0</th>\n",
       "      <td>Boycott (album)</td>\n",
       "      <td>\\nBoycott (album)\\n\\n\\n\\n</td>\n",
       "      <td>wiki</td>\n",
       "      <td>https://en.wikipedia.org/wiki?curid=63405427</td>\n",
       "      <td>en</td>\n",
       "      <td>24/07/23 15:06</td>\n",
       "    </tr>\n",
       "    <tr>\n",
       "      <th>1</th>\n",
       "      <td>Javier Gallo</td>\n",
       "      <td>\\nJavier Gallo\\n\\nJavier Gallo González (born ...</td>\n",
       "      <td>wiki</td>\n",
       "      <td>https://en.wikipedia.org/wiki?curid=31637473</td>\n",
       "      <td>en</td>\n",
       "      <td>24/07/23 14:49</td>\n",
       "    </tr>\n",
       "    <tr>\n",
       "      <th>2</th>\n",
       "      <td>R. M. Tristram</td>\n",
       "      <td>\\nR. M. Tristram\\n\\n\\n\\n</td>\n",
       "      <td>wiki</td>\n",
       "      <td>https://en.wikipedia.org/wiki?curid=56333678</td>\n",
       "      <td>en</td>\n",
       "      <td>24/07/23 15:02</td>\n",
       "    </tr>\n",
       "    <tr>\n",
       "      <th>3</th>\n",
       "      <td>T. J. Carter (defensive back)</td>\n",
       "      <td>\\nT. J. Carter (defensive back)\\n\\nT. J. Carte...</td>\n",
       "      <td>wiki</td>\n",
       "      <td>https://en.wikipedia.org/wiki?curid=72605589</td>\n",
       "      <td>en</td>\n",
       "      <td>24/07/23 15:11</td>\n",
       "    </tr>\n",
       "    <tr>\n",
       "      <th>4</th>\n",
       "      <td>Wrestling at the 2015 Pan American Games - Men...</td>\n",
       "      <td>\\nWrestling at the 2015 Pan American Games - M...</td>\n",
       "      <td>wiki</td>\n",
       "      <td>https://en.wikipedia.org/wiki?curid=49831530</td>\n",
       "      <td>en</td>\n",
       "      <td>24/07/23 14:59</td>\n",
       "    </tr>\n",
       "  </tbody>\n",
       "</table>\n",
       "</div>"
      ],
      "text/plain": [
       "                                               title  \\\n",
       "0                                    Boycott (album)   \n",
       "1                                       Javier Gallo   \n",
       "2                                     R. M. Tristram   \n",
       "3                      T. J. Carter (defensive back)   \n",
       "4  Wrestling at the 2015 Pan American Games - Men...   \n",
       "\n",
       "                                                body source  \\\n",
       "0                          \\nBoycott (album)\\n\\n\\n\\n   wiki   \n",
       "1  \\nJavier Gallo\\n\\nJavier Gallo González (born ...   wiki   \n",
       "2                           \\nR. M. Tristram\\n\\n\\n\\n   wiki   \n",
       "3  \\nT. J. Carter (defensive back)\\n\\nT. J. Carte...   wiki   \n",
       "4  \\nWrestling at the 2015 Pan American Games - M...   wiki   \n",
       "\n",
       "                                            url langCode       timestamp  \n",
       "0  https://en.wikipedia.org/wiki?curid=63405427       en  24/07/23 15:06  \n",
       "1  https://en.wikipedia.org/wiki?curid=31637473       en  24/07/23 14:49  \n",
       "2  https://en.wikipedia.org/wiki?curid=56333678       en  24/07/23 15:02  \n",
       "3  https://en.wikipedia.org/wiki?curid=72605589       en  24/07/23 15:11  \n",
       "4  https://en.wikipedia.org/wiki?curid=49831530       en  24/07/23 14:59  "
      ]
     },
     "execution_count": 4,
     "metadata": {},
     "output_type": "execute_result"
    }
   ],
   "source": [
    "df.head()"
   ]
  },
  {
   "cell_type": "code",
   "execution_count": 5,
   "metadata": {},
   "outputs": [
    {
     "data": {
      "text/plain": [
       "source\n",
       "wiki    1000\n",
       "Name: count, dtype: int64"
      ]
     },
     "execution_count": 5,
     "metadata": {},
     "output_type": "execute_result"
    }
   ],
   "source": [
    "df['source'].value_counts()"
   ]
  },
  {
   "cell_type": "markdown",
   "metadata": {},
   "source": [
    "## First we perform Templating Stage on the dataset"
   ]
  },
  {
   "cell_type": "code",
   "execution_count": 12,
   "metadata": {},
   "outputs": [
    {
     "name": "stdout",
     "output_type": "stream",
     "text": [
      "Downloading data files: 100%|██████████████████| 1/1 [00:00<00:00, 23045.63it/s]\n",
      "Extracting data files: 100%|████████████████████| 1/1 [00:00<00:00, 2799.94it/s]\n",
      "Setting num_proc from 64 back to 1 for the train split to disable multiprocessing as it only contains one shard.\n",
      "Generating train split: 1000 examples [00:00, 114223.97 examples/s]\n",
      "Loaded Dataset from path - /home/shanks/setu-translate/examples/sample_data/sample_wiki_en_data.parquet\n",
      "Map (num_proc=64): 100%|██████████████| 100/100 [00:00<00:00, 171.11 examples/s]\n",
      "Performed `templating`\n",
      "Filter (num_proc=64): 100%|███████████| 100/100 [00:00<00:00, 277.07 examples/s]\n",
      "Filtered `null` text docs\n",
      "Map (num_proc=64): 100%|██████████████| 100/100 [00:00<00:00, 194.53 examples/s]\n",
      "Saving the dataset (64/64 shards): 100%|█| 100/100 [00:00<00:00, 178.82 examples\n",
      "Saved `templated` dataset to /home/shanks/setu-translate/examples/output/wiki_en/templated\n"
     ]
    }
   ],
   "source": [
    "!HF_DATASETS_CACHE=/mnt/sea/tmp python /home/kd/Desktop/proj/dec/setu-translate/stages/perform_templating.py \\\n",
    "    --glob_path \"/home/kd/Desktop/proj/dec/setu-translate/examples/sample_data/sample_wiki_en_data.parquet\" \\\n",
    "    --cache_dir_for_original_data \"/mnt/sea/setu-translate/examples/cache\" \\\n",
    "    --base_save_path \"/mnt/sea/setu-translate/examples/output/wiki_en/doc_csvs\" \\\n",
    "    --save_path \"/mnt/sea/setu-translate/examples/output/wiki_en/templated\" \\\n",
    "    --text_col body \\\n",
    "    --url_col url \\\n",
    "    --timestamp_col timestamp \\\n",
    "    --source_type wiki_en \\\n",
    "    --translation_type sentence \\\n",
    "    --use_cache False \\\n",
    "    --split \"train[:100]\""
   ]
  },
  {
   "cell_type": "markdown",
   "metadata": {},
   "source": [
    "Also while viewing stage output .arrow files make sure the filepaths are proper while using Dataset.from_file()"
   ]
  },
  {
   "cell_type": "code",
   "execution_count": 6,
   "metadata": {},
   "outputs": [],
   "source": [
    "ds = Dataset.from_file(\"/mnt/sea/setu-translate/examples/output/wiki_en/templated/data-00000-of-00064.arrow\")"
   ]
  },
  {
   "cell_type": "code",
   "execution_count": 21,
   "metadata": {},
   "outputs": [
    {
     "data": {
      "text/plain": [
       "Dataset({\n",
       "    features: ['source', 'url', 'timestamp', 'doc_id', 'text', 'sub_strs', 'sids', 'tlt_folder'],\n",
       "    num_rows: 2\n",
       "})"
      ]
     },
     "execution_count": 21,
     "metadata": {},
     "output_type": "execute_result"
    }
   ],
   "source": [
    "ds"
   ]
  },
  {
   "cell_type": "markdown",
   "metadata": {},
   "source": [
    "#### View the templated dataset output"
   ]
  },
  {
   "cell_type": "code",
   "execution_count": 7,
   "metadata": {},
   "outputs": [
    {
     "data": {
      "text/plain": [
       "{'source': 'en_wikipedia',\n",
       " 'url': 'https://en.wikipedia.org/wiki?curid=63405427',\n",
       " 'timestamp': '24/07/23 15:06',\n",
       " 'doc_id': '7299c62f59ec33baca764b3cc9f6aa529a64ca0e784d963b48649db5500c0b96',\n",
       " 'text': '\\nboycott (album)\\n\\n\\n\\n',\n",
       " 'sub_strs': '[\"boycott (album)\"]',\n",
       " 'sids': '[\"545490bdf181f0d46f6c7bf3a1d2ee08d8266c11fd40c96d3dc6f2238387fffc\"]',\n",
       " 'tlt_folder': '/mnt/sea/setu-translate/examples/output/wiki_en/doc_csvs/923682bea6d517dc178d480c88e129e485ed902f4fa024866666658cd4ea6836/7299c62f59ec33baca764b3cc9f6aa529a64ca0e784d963b48649db5500c0b96'}"
      ]
     },
     "execution_count": 7,
     "metadata": {},
     "output_type": "execute_result"
    }
   ],
   "source": [
    "ds[0]"
   ]
  },
  {
   "cell_type": "code",
   "execution_count": 8,
   "metadata": {},
   "outputs": [
    {
     "data": {
      "text/plain": [
       "['\\nboycott (album)\\n\\n\\n\\n',\n",
       " '\\njavier gallo\\n\\njavier gallo gonzález (born 6 august 1983) is a mexican professional boxer.\\nprofessional career.\\nin may 2011, gallo lost a majority decision to former world champion rodel mayol on showtime\\'s televised portion of the pacquiao vs. mosley undercard.\\non september 9, 2011 at the \"war at woodland hills 5\", gallo won with a tko over jason rorie.\\n\\n']"
      ]
     },
     "execution_count": 8,
     "metadata": {},
     "output_type": "execute_result"
    }
   ],
   "source": [
    "ds[0:10]['text']"
   ]
  },
  {
   "cell_type": "markdown",
   "metadata": {},
   "source": [
    "## Create the Global Sentence Level Dataset"
   ]
  },
  {
   "cell_type": "code",
   "execution_count": 9,
   "metadata": {},
   "outputs": [
    {
     "name": "stdout",
     "output_type": "stream",
     "text": [
      "Resolving data files: 100%|█████████████████| 64/64 [00:00<00:00, 171196.08it/s]\n",
      "Generating train split: 100 examples [00:00, 195.94 examples/s]\n",
      "Loading dataset shards: 100%|█████████████████| 64/64 [00:00<00:00, 7417.19it/s]\n",
      "Map (num_proc=64): 100%|██████████████| 100/100 [00:00<00:00, 239.25 examples/s]\n",
      "Map (num_proc=64): 100%|█████████████| 612/612 [00:00<00:00, 1365.21 examples/s]\n",
      "Saving the dataset (64/64 shards): 100%|█| 612/612 [00:00<00:00, 1336.78 example\n"
     ]
    }
   ],
   "source": [
    "!HF_DATASETS_CACHE=/mnt/sea/tmp python /home/kd/Desktop/proj/dec/setu-translate/stages/create_global_ds.py \\\n",
    "    --paths_data \"/mnt/sea/setu-translate/examples/output/wiki_en/templated/*.arrow\" \\\n",
    "    --cache_dir \"/mnt/sea/setu-translate/examples/cache\" \\\n",
    "    --global_sent_ds_path \"/mnt/sea/setu-translate/examples/output/wiki_en/sentences\""
   ]
  },
  {
   "cell_type": "code",
   "execution_count": 10,
   "metadata": {},
   "outputs": [],
   "source": [
    "ds = Dataset.from_file(\"/mnt/sea/setu-translate/examples/output/wiki_en/sentences/data-00000-of-00064.arrow\")"
   ]
  },
  {
   "cell_type": "code",
   "execution_count": 11,
   "metadata": {},
   "outputs": [
    {
     "data": {
      "text/plain": [
       "['boycott (album)',\n",
       " 'javier gallo',\n",
       " 'javier gallo gonzález (born 6 august 1983) is a mexican professional boxer.',\n",
       " 'professional career.',\n",
       " \"in may 2011, gallo lost a majority decision to former world champion rodel mayol on showtime's televised portion of the pacquiao vs.\",\n",
       " 'mosley undercard.',\n",
       " 'on september 9, 2011 at the \"war at woodland hills 5\", gallo won with a tko over jason rorie.',\n",
       " 'r.',\n",
       " 'm.',\n",
       " 'tristram']"
      ]
     },
     "execution_count": 11,
     "metadata": {},
     "output_type": "execute_result"
    }
   ],
   "source": [
    "ds[0:10][\"sub_strs\"]"
   ]
  },
  {
   "cell_type": "markdown",
   "metadata": {},
   "source": [
    "## Now Binarize the Sentence Level Dataset"
   ]
  },
  {
   "cell_type": "code",
   "execution_count": 12,
   "metadata": {},
   "outputs": [
    {
     "name": "stdout",
     "output_type": "stream",
     "text": [
      "Resolving data files: 100%|█████████████████| 64/64 [00:00<00:00, 483667.49it/s]\n",
      "Generating train split: 612 examples [00:00, 35631.29 examples/s]\n",
      "Loaded Dataset....\n",
      "Map: 100%|███████████████████████████| 612/612 [00:00<00:00, 1856.05 examples/s]\n",
      "Saving the dataset (1/1 shards): 100%|█| 612/612 [00:00<00:00, 149143.81 example\n"
     ]
    }
   ],
   "source": [
    "!HF_DATASETS_CACHE=/mnt/sea/tmp python /home/kd/Desktop/proj/dec/setu-translate/stages/binarize.py \\\n",
    "    --root_dir \"/mnt/sea/setu-translate\" \\\n",
    "    --data_files \"/mnt/sea/setu-translate/examples/output/wiki_en/sentences/*.arrow\" \\\n",
    "    --cache_dir \"/mnt/sea/setu-translate/examples/cache\" \\\n",
    "    --binarized_dir \"/mnt/sea/setu-translate/examples/output/wiki_en/binarized_sentences\" \\\n",
    "    --batch_size 2048 \\\n",
    "    --total_procs 1 \\\n",
    "    --padding max_length \\\n",
    "    --src_lang eng_Latn \\\n",
    "    --tgt_lang pan_Guru \\\n",
    "    --return_format pt"
   ]
  },
  {
   "cell_type": "code",
   "execution_count": 13,
   "metadata": {},
   "outputs": [],
   "source": [
    "ds = Dataset.from_file(\"/home/shanks/setu-translate/examples/output/wiki_en/binarized_sentences/data-00000-of-00001.arrow\")"
   ]
  },
  {
   "cell_type": "code",
   "execution_count": 14,
   "metadata": {},
   "outputs": [
    {
     "data": {
      "text/plain": [
       "Dataset({\n",
       "    features: ['doc_id', 'sub_strs', 'sids', 'tlt_file_loc', 'tlt_idx', 'input_ids', 'attention_mask', 'placeholder_entity_map'],\n",
       "    num_rows: 612\n",
       "})"
      ]
     },
     "execution_count": 14,
     "metadata": {},
     "output_type": "execute_result"
    }
   ],
   "source": [
    "ds[0:10][\"sub_strs\"]"
   ]
  },
  {
   "cell_type": "code",
   "execution_count": 15,
   "metadata": {},
   "outputs": [
    {
     "name": "stdout",
     "output_type": "stream",
     "text": [
      "[1, 1, 1, 1, 1, 1, 1, 1, 1, 1, 1, 1, 1, 1, 1, 1, 1, 1, 1, 1, 1, 1, 1, 1, 1, 1, 1, 1, 1, 1, 1, 1, 1, 1, 1, 1, 1, 1, 1, 1, 1, 1, 1, 1, 1, 1, 1, 1, 1, 1, 1, 1, 1, 1, 1, 1, 1, 1, 1, 1, 1, 1, 1, 1, 1, 1, 1, 1, 1, 1, 1, 1, 1, 1, 1, 1, 1, 1, 1, 1, 1, 1, 1, 1, 1, 1, 1, 1, 1, 1, 1, 1, 1, 1, 1, 1, 1, 1, 1, 1, 1, 1, 1, 1, 1, 1, 1, 1, 1, 1, 1, 1, 1, 1, 1, 1, 1, 1, 1, 1, 1, 1, 1, 1, 1, 1, 1, 1, 1, 1, 1, 1, 1, 1, 1, 1, 1, 1, 1, 1, 1, 1, 1, 1, 1, 1, 1, 1, 1, 1, 1, 1, 1, 1, 1, 1, 1, 1, 1, 1, 1, 1, 1, 1, 1, 1, 1, 1, 1, 1, 1, 1, 1, 1, 1, 1, 1, 1, 1, 1, 1, 1, 1, 1, 1, 1, 1, 1, 1, 1, 1, 1, 1, 1, 1, 1, 1, 1, 1, 1, 1, 1, 1, 1, 1, 1, 1, 1, 1, 1, 1, 1, 1, 1, 1, 1, 1, 1, 1, 1, 1, 1, 1, 1, 1, 1, 1, 1, 1, 1, 1, 1, 1, 1, 1, 1, 1, 1, 1, 1, 1, 1, 1, 1, 1, 1, 1, 1, 1, 4, 46, 18178, 53, 4994, 52, 2]\n",
      "[1, 1, 1, 1, 1, 1, 1, 1, 1, 1, 1, 1, 1, 1, 1, 1, 1, 1, 1, 1, 1, 1, 1, 1, 1, 1, 1, 1, 1, 1, 1, 1, 1, 1, 1, 1, 1, 1, 1, 1, 1, 1, 1, 1, 1, 1, 1, 1, 1, 1, 1, 1, 1, 1, 1, 1, 1, 1, 1, 1, 1, 1, 1, 1, 1, 1, 1, 1, 1, 1, 1, 1, 1, 1, 1, 1, 1, 1, 1, 1, 1, 1, 1, 1, 1, 1, 1, 1, 1, 1, 1, 1, 1, 1, 1, 1, 1, 1, 1, 1, 1, 1, 1, 1, 1, 1, 1, 1, 1, 1, 1, 1, 1, 1, 1, 1, 1, 1, 1, 1, 1, 1, 1, 1, 1, 1, 1, 1, 1, 1, 1, 1, 1, 1, 1, 1, 1, 1, 1, 1, 1, 1, 1, 1, 1, 1, 1, 1, 1, 1, 1, 1, 1, 1, 1, 1, 1, 1, 1, 1, 1, 1, 1, 1, 1, 1, 1, 1, 1, 1, 1, 1, 1, 1, 1, 1, 1, 1, 1, 1, 1, 1, 1, 1, 1, 1, 1, 1, 1, 1, 1, 1, 1, 1, 1, 1, 1, 1, 1, 1, 1, 1, 1, 1, 1, 1, 1, 1, 1, 1, 1, 1, 1, 1, 1, 1, 1, 1, 1, 1, 1, 1, 1, 1, 1, 1, 1, 1, 1, 1, 1, 1, 1, 1, 1, 1, 1, 1, 1, 1, 1, 1, 1, 1, 1, 1, 1, 1, 1, 4, 46, 1437, 28339, 10728, 369, 2]\n"
     ]
    }
   ],
   "source": [
    "for input_id in ds[0:2][\"input_ids\"]:\n",
    "    print(str(input_id))"
   ]
  },
  {
   "cell_type": "markdown",
   "metadata": {},
   "source": [
    "## Now perform translation on the binarized dataset"
   ]
  },
  {
   "cell_type": "code",
   "execution_count": 16,
   "metadata": {},
   "outputs": [
    {
     "name": "stdout",
     "output_type": "stream",
     "text": [
      "Generating train split: 612 examples [00:00, 319944.42 examples/s]\n",
      "100%|████████████████████████████| 10/10 [00:28<00:00,  2.89s/ba: 64 samples/ba]\n",
      "Saving the dataset (1/1 shards): 100%|█| 612/612 [00:00<00:00, 92782.26 examples\n"
     ]
    }
   ],
   "source": [
    "!HF_DATASETS_CACHE=/mnt/sea/tmp python /home/kd/Desktop/proj/dec/setu-translate/stages/tlt_pipelines/translate_joblib.py \\\n",
    "    --root_dir \"/mnt/sea/setu-translate\" \\\n",
    "    --data_files \"/mnt/sea/setu-translate/examples/output/wiki_en/binarized_sentences/*.arrow\" \\\n",
    "    --cache_dir \"/mnt/sea/setu-translate/examples/cache\" \\\n",
    "    --base_save_dir \"/mnt/sea/setu-translate/examples/output/wiki_en/model_out\" \\\n",
    "    --joblib_temp_folder \"/mnt/sea/setu-translate/tmp\" \\\n",
    "    --batch_size 16 \\\n",
    "    --total_procs 1 \\\n",
    "    --devices \"0\""
   ]
  },
  {
   "cell_type": "code",
   "execution_count": 17,
   "metadata": {},
   "outputs": [
    {
     "data": {
      "text/plain": [
       "Dataset({\n",
       "    features: ['doc_id', 'sid', 'sub_str', 'tlt_idx', 'placeholder_entity_map', 'translated_input_ids', 'tlt_file_loc'],\n",
       "    num_rows: 612\n",
       "})"
      ]
     },
     "execution_count": 49,
     "metadata": {},
     "output_type": "execute_result"
    }
   ],
   "source": [
    "ds = Dataset.from_file(\"/mnt/sea/setu-translate/examples/output/wiki_en/model_out/rank_0-device_cuda/data-00000-of-00001.arrow\")\n",
    "ds"
   ]
  },
  {
   "cell_type": "code",
   "execution_count": 18,
   "metadata": {},
   "outputs": [
    {
     "name": "stdout",
     "output_type": "stream",
     "text": [
      "[2, 15330, 40997, 22, 363, 13075, 143, 21, 2, 1, 1, 1, 1, 1, 1, 1, 1, 1, 1, 1, 1, 1, 1, 1, 1, 1, 1, 1, 1, 1, 1, 1, 1, 1, 1, 1, 1, 1, 1, 1, 1, 1, 1, 1, 1, 1, 1, 1, 1, 1, 1, 1, 1, 1, 1, 1, 1, 1, 1]\n",
      "[2, 4505, 748, 4093, 7837, 178, 2, 1, 1, 1, 1, 1, 1, 1, 1, 1, 1, 1, 1, 1, 1, 1, 1, 1, 1, 1, 1, 1, 1, 1, 1, 1, 1, 1, 1, 1, 1, 1, 1, 1, 1, 1, 1, 1, 1, 1, 1, 1, 1, 1, 1, 1, 1, 1, 1, 1, 1, 1, 1]\n"
     ]
    }
   ],
   "source": [
    "for input_id in ds[0:2][\"translated_input_ids\"]:\n",
    "    print(str(input_id))"
   ]
  },
  {
   "cell_type": "markdown",
   "metadata": {},
   "source": [
    "## Now let's decode the translated inputs"
   ]
  },
  {
   "cell_type": "code",
   "execution_count": 19,
   "metadata": {},
   "outputs": [
    {
     "name": "stdout",
     "output_type": "stream",
     "text": [
      "usage: decode.py [-h] [--data_files DATA_FILES] [--format FORMAT]\n",
      "                 [--cache_dir CACHE_DIR] [--decode_dir DECODE_DIR]\n",
      "                 [--batch_size BATCH_SIZE] [--total_procs TOTAL_PROCS]\n",
      "                 [--save_strs SAVE_STRS] [--src_lang SRC_LANG]\n",
      "                 [--tgt_lang TGT_LANG]\n",
      "decode.py: error: unrecognized arguments: --root_dir /home/shanks/setu-translate\n"
     ]
    }
   ],
   "source": [
    "!HF_DATASETS_CACHE=/mnt/sea/tmp python /home/kd/Desktop/proj/dec/setu-translate/stages/decode.py \\\n",
    "    --data_files \"/mnt/sea/setu-translate/examples/output/wiki_en/model_out/*/*.arrow\" \\\n",
    "    --cache_dir \"/mnt/sea/setu-translate/examples/cache\" \\\n",
    "    --decode_dir \"/mnt/sea/setu-translate/examples/output/wiki_en/decode\" \\\n",
    "    --format arrow \\\n",
    "    --batch_size 64 \\\n",
    "    --total_procs 1 \\\n",
    "    --src_lang eng_Latn \\\n",
    "    --tgt_lang pan_Guru "
   ]
  },
  {
   "cell_type": "code",
   "execution_count": 20,
   "metadata": {},
   "outputs": [],
   "source": [
    "ds = Dataset.from_file(\"/home/shanks/setu-translate/examples/output/wiki_en/decode/data-00000-of-00001.arrow\")"
   ]
  },
  {
   "cell_type": "code",
   "execution_count": 21,
   "metadata": {},
   "outputs": [
    {
     "data": {
      "text/plain": [
       "Dataset({\n",
       "    features: ['doc_id', 'sid', 'sub_str', 'tlt_idx', 'placeholder_entity_map', 'translated_input_ids', 'tlt_file_loc', 'translated', 'written'],\n",
       "    num_rows: 612\n",
       "})"
      ]
     },
     "execution_count": 21,
     "metadata": {},
     "output_type": "execute_result"
    }
   ],
   "source": [
    "ds[0:10][\"translated\"]"
   ]
  },
  {
   "cell_type": "markdown",
   "metadata": {},
   "source": [
    "## Now replace the text with translations in the original templated dataset"
   ]
  },
  {
   "cell_type": "code",
   "execution_count": 22,
   "metadata": {},
   "outputs": [
    {
     "name": "stdout",
     "output_type": "stream",
     "text": [
      "Resolving data files: 100%|█████████████████| 64/64 [00:00<00:00, 508400.48it/s]\n",
      "Generating train split: 100 examples [00:00, 5780.78 examples/s]\n",
      "Map: 100%|████████████████████████████████| 4/4 [00:00<00:00, 280.66 examples/s]\n",
      "Saving the dataset (1/1 shards): 100%|███| 4/4 [00:00<00:00, 1216.80 examples/s]\n"
     ]
    }
   ],
   "source": [
    "!HF_DATASETS_CACHE=/mnt/sea/tmp python /home/kd/Desktop/proj/dec/setu-translate/stages/replace.py \\\n",
    "    --paths_data \"/mnt/sea/setu-translate/examples/output/wiki_en/templated/*.arrow\" \\\n",
    "    --cache_dir \"/mnt/sea/setu-translate/examples/cache\" \\\n",
    "    --batch_size 64 \\\n",
    "    --num_procs 1 \\\n",
    "    --translated_save_path \"/mnt/sea/setu-translate/examples/output/wiki_en/translated\""
   ]
  },
  {
   "cell_type": "code",
   "execution_count": 23,
   "metadata": {},
   "outputs": [],
   "source": [
    "ds = Dataset.from_file(\"/home/shanks/setu-translate/examples/output/wiki_en/translated/data-00000-of-00001.arrow\")"
   ]
  },
  {
   "cell_type": "code",
   "execution_count": 24,
   "metadata": {},
   "outputs": [
    {
     "data": {
      "text/plain": [
       "Dataset({\n",
       "    features: ['source', 'url', 'timestamp', 'doc_id', 'text', 'sub_strs', 'sids', 'tlt_folder', 'translated', 'substr_tlt'],\n",
       "    num_rows: 4\n",
       "})"
      ]
     },
     "execution_count": 24,
     "metadata": {},
     "output_type": "execute_result"
    }
   ],
   "source": [
    "ds[0:10][\"translated\"]"
   ]
  },
  {
   "cell_type": "code",
   "execution_count": 69,
   "metadata": {},
   "outputs": [
    {
     "data": {
      "text/plain": [
       "{'source': 'en_wikipedia',\n",
       " 'url': 'https://en.wikipedia.org/wiki?curid=63405427',\n",
       " 'timestamp': '24/07/23 15:06',\n",
       " 'doc_id': '7299c62f59ec33baca764b3cc9f6aa529a64ca0e784d963b48649db5500c0b96',\n",
       " 'text': '\\nboycott (album)\\n\\n\\n\\n',\n",
       " 'sub_strs': '[\"boycott (album)\"]',\n",
       " 'sids': '[\"545490bdf181f0d46f6c7bf3a1d2ee08d8266c11fd40c96d3dc6f2238387fffc\"]',\n",
       " 'tlt_folder': '/mnt/sea/setu-translate/examples/output/wiki_en/doc_csvs/923682bea6d517dc178d480c88e129e485ed902f4fa024866666658cd4ea6836/7299c62f59ec33baca764b3cc9f6aa529a64ca0e784d963b48649db5500c0b96',\n",
       " 'translated': '\\nਬਾਈਕਾਟ (ਐਲਬਮ)\\n\\n\\n\\n',\n",
       " 'substr_tlt': ['ਬਾਈਕਾਟ (ਐਲਬਮ)']}"
      ]
     },
     "execution_count": 69,
     "metadata": {},
     "output_type": "execute_result"
    }
   ],
   "source": [
    "ds[0]"
   ]
  },
  {
   "cell_type": "code",
   "execution_count": null,
   "metadata": {},
   "outputs": [],
   "source": []
  },
  {
   "cell_type": "code",
   "execution_count": null,
   "metadata": {},
   "outputs": [],
   "source": []
  },
  {
   "cell_type": "code",
   "execution_count": null,
   "metadata": {},
   "outputs": [],
   "source": [
    "!HF_DATASETS_CACHE=/mnt/sea/tmp python /home/kd/Desktop/proj/dec/setu-translate/stages/perform_templating.py \\\n",
    "    --glob_path {initial_parquet_file_path} \\\n",
    "    --cache_dir_for_original_data \"/mnt/sea/setu-translate/examples/cache\" \\\n",
    "    --base_save_path \"/mnt/sea/setu-translate/examples/output/{dir_name}/doc_csvs\" \\\n",
    "    --save_path \"/mnt/sea/setu-translate/examples/output/{dir_name}/templated\" \\\n",
    "    --text_col value \\\n",
    "    --source_type {dir_name} \\\n",
    "    --translation_type sentence \\\n",
    "    --use_cache False \\\n",
    "    --id_col doc_id \\\n",
    "    --write_style batch \\\n",
    "    --split \"train\"\n",
    "\n",
    "\n",
    "\n",
    "\n",
    "HF_DATASETS_CACHE=/mnt/sea/tmp; initial_parquet_file_path=/mnt/sea/dolma/openhermes-readability_it2.parquet; dir_name=open_hermes; python /home/kd/Desktop/proj/dec/setu-translate/stages/tlt_pipelines/translate_joblib.py --root_dir \"/mnt/sea/setu-translate\" --data_files \"/mnt/sea/setu-translate/examples/output/$dir_name/binarized_sentences/*.arrow\" --cache_dir \"/mnt/sea/setu-translate/examples/cache\" --base_save_dir \"/mnt/sea/setu-translate/examples/output/$dir_name/model_out\" --joblib_temp_folder \"/mnt/sea/setu-translate/tmp\" --total_procs 24 --batch_size 400 --devices \"0\"\n",
    "\n",
    "\n",
    "HF_DATASETS_CACHE=/mnt/sea/tmp; initial_parquet_file_path=/mnt/sea/dolma/openhermes-readability_it2.parquet; dir_name=open_hermes; python /home/kd/Desktop/proj/dec/setu-translate/stages/decode.py --data_files \"/mnt/sea/setu-translate/examples/output/$dir_name/model_out/*/*.arrow\" --cache_dir \"/mnt/sea/setu-translate/examples/cache\" --decode_dir \"/mnt/sea/setu-translate/examples/output/$dir_name/decode\" --format arrow --batch_size 256 --total_procs 24 --src_lang eng_Latn --tgt_lang pan_Guru \n",
    "\n",
    "HF_DATASETS_CACHE=/mnt/sea/tmp; initial_parquet_file_path=/mnt/sea/dolma/openhermes-readability_it2.parquet; dir_name=open_hermes; python /home/kd/Desktop/proj/dec/setu-translate/stages/replace.py \\\n",
    "    --paths_data \"/mnt/sea/setu-translate/examples/output/wiki_en/templated/*.arrow\" \\\n",
    "    --cache_dir \"/mnt/sea/setu-translate/examples/cache\" \\\n",
    "    --batch_size 128 \\\n",
    "    --num_procs 1 \\\n",
    "    --translated_save_path \"/mnt/sea/setu-translate/examples/output/wiki_en/translated\""
   ]
  },
  {
   "cell_type": "code",
   "execution_count": null,
   "metadata": {},
   "outputs": [],
   "source": []
  },
  {
   "cell_type": "code",
   "execution_count": null,
   "metadata": {},
   "outputs": [],
   "source": []
  }
 ],
 "metadata": {
  "kernelspec": {
   "display_name": "translate-env",
   "language": "python",
   "name": "python3"
  },
  "language_info": {
   "codemirror_mode": {
    "name": "ipython",
    "version": 3
   },
   "file_extension": ".py",
   "mimetype": "text/x-python",
   "name": "python",
   "nbconvert_exporter": "python",
   "pygments_lexer": "ipython3",
   "version": "3.10.13"
  }
 },
 "nbformat": 4,
 "nbformat_minor": 2
}
